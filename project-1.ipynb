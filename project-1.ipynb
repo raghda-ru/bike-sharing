{
 "cells": [
  {
   "cell_type": "code",
   "execution_count": 6,
   "metadata": {},
   "outputs": [],
   "source": [
    "# Uncomment the pip install code below if you haven't installed these libraries yet\n",
    "# !pip install pandas\n",
    "# !pip install zipfile\n",
    "# !pip install kaggle\n",
    "\n",
    "# import the pandas library\n",
    "import pandas as pd\n",
    "\n",
    "\n",
    "# import zipfile library (we will use this to extract the file downloaded from Kaggle)\n",
    "import zipfile\n",
    "\n",
    "# import kaggle library (we will use this to download the dataset programatically from Kaggle)\n",
    "import kaggle"
   ]
  },
  {
   "cell_type": "code",
   "execution_count": 10,
   "metadata": {},
   "outputs": [
    {
     "name": "stdout",
     "output_type": "stream",
     "text": [
      "Dataset URL: https://www.kaggle.com/datasets/contactprad/bike-share-daily-data\n",
      "License(s): other\n",
      "Downloading bike-share-daily-data.zip to /Users/Raghda/projects\n",
      "100%|█████████████████████████████████████████| 284k/284k [00:00<00:00, 717kB/s]\n",
      "100%|█████████████████████████████████████████| 284k/284k [00:00<00:00, 712kB/s]\n"
     ]
    }
   ],
   "source": [
    "\n",
    "\n",
    "# # download dataset from kaggle using the Kaggle API\n",
    "# import kagglehub\n",
    "\n",
    "# # Download latest version\n",
    "# path = kagglehub.dataset_download(\"contactprad/bike-share-daily-data\")\n",
    "\n",
    "# print(\"Path to dataset files:\", path)\n",
    "#!/bin/bash\n",
    "!kaggle datasets download contactprad/bike-share-daily-data"
   ]
  }
 ],
 "metadata": {
  "language_info": {
   "name": "python"
  }
 },
 "nbformat": 4,
 "nbformat_minor": 2
}
